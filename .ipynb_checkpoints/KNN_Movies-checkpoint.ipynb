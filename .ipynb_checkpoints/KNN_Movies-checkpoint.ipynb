{
 "cells": [
  {
   "cell_type": "code",
   "execution_count": 5,
   "metadata": {},
   "outputs": [],
   "source": [
    "import pandas as pd \n",
    "import random\n",
    "import numpy as np\n",
    "import math"
   ]
  },
  {
   "cell_type": "code",
   "execution_count": 3,
   "metadata": {},
   "outputs": [],
   "source": [
    "feature = ['Drama', 'Documentary', 'Family', 'Comedy', 'Crime',\n",
    "               'Horror', 'Science Fiction', 'Action', 'Adventure',\n",
    "               'War', 'Thriller', 'Romance', 'Fantasy', 'Mystery',\n",
    "               'Western', 'Foreign', 'History', 'Music', 'Animation',\n",
    "               'TV Movie', 'ab', 'af', 'am', 'ar', 'ay', 'bg', 'bm',\n",
    "               'bn', 'bo', 'bs', 'ca', 'cn', 'cs', 'cy', 'da', 'de',\n",
    "               'el', 'en', 'eo', 'es', 'et', 'eu', 'fa', 'fi', 'fr', 'fy',\n",
    "               'gl', 'he', 'hi', 'hr', 'hu', 'hy', 'id_lang', 'is', 'it',\n",
    "               'iu', 'ja', 'jv', 'ka', 'kk', 'kn', 'ko', 'ku', 'ky', 'la',\n",
    "               'lb', 'lo', 'lt', 'lv', 'mk', 'ml', 'mn', 'mr', 'ms', 'mt',\n",
    "               'nb', 'ne', 'nl', 'no', 'pa', 'pl', 'ps', 'pt', 'qu', 'ro',\n",
    "               'ru', 'rw', 'sh', 'si', 'sk', 'sl', 'sm', 'sq', 'sr', 'sv',\n",
    "               'ta', 'te', 'tg', 'th', 'tl', 'tr', 'uk', 'ur', 'uz', 'vi',\n",
    "               'wo', 'xx', 'zh', 'zu', \"vote_average\",\n",
    "               \"revenue\"] \n",
    "\n",
    "liked_movies = [['Heat',2], ['Ghost', 4]]\n",
    "\n",
    "all_data = pd.read_csv(\"qwe.csv\")"
   ]
  },
  {
   "cell_type": "code",
   "execution_count": 8,
   "metadata": {},
   "outputs": [
    {
     "name": "stdout",
     "output_type": "stream",
     "text": [
      "['Heat', 2]\n",
      "distance ::: 42700.0000941452   @ index ::: 274new rec ::::崖の上のポニョ\n",
      "distance ::: 63182.000033633   @ index ::: 191new rec ::::Octopussy\n",
      "['Ghost', 4]\n",
      "distance ::: 949781.000001711   @ index ::: 6new rec ::::Aladdin\n",
      "distance ::: 4811565.000000661   @ index ::: 136new rec ::::Rio 2\n"
     ]
    },
    {
     "data": {
      "text/plain": [
       "['崖の上のポニョ', 'Rio 2', 'Aladdin', 'Octopussy']"
      ]
     },
     "execution_count": 8,
     "metadata": {},
     "output_type": "execute_result"
    }
   ],
   "source": [
    "\"\"\"\n",
    "Function to calculate the euclidean distance.\n",
    "\"\"\"\n",
    "def get_distance(data1, data2):\n",
    "    #zipping the data allows you to easily compare column data between each data source\n",
    "    points = zip(data1, data2)\n",
    "    diffs_squared_distance = []\n",
    "    for (a, b) in points:\n",
    "        diffs_squared_distance.append(pow(a - b, 2))\n",
    "    return math.sqrt(sum(diffs_squared_distance))\n",
    "\n",
    "\"\"\"\n",
    "Function to calculate similar movies based getting movie's with the \n",
    "shortest euclidean distance.\n",
    "\"\"\"\n",
    "def get_neighbor(movie_details, all_data, neighbor_num):\n",
    "    distances = []\n",
    "    \n",
    "    #append the original title to the list of features so that we can recall which row correlates to each title\n",
    "    feature_title = feature + ['original_title']\n",
    "\n",
    "    #get the details of the whole row for  the movie which we are currently iterating on\n",
    "    movie_row = all_data.loc[all_data['original_title'] == movie_details[0]]\n",
    "    \n",
    "    #get a filtered dataframe of just the movies that pertain to the cluster # of the movie we are looking at\n",
    "    filtered_df = all_data.loc[all_data['clusters'] == movie_details[1]]\n",
    "\n",
    "    #limit the dataframes to just the columns in the features list so that all the values are either ints or floats\n",
    "    movie_row = movie_row[feature_title]\n",
    "    filtered_df = filtered_df[feature_title]\n",
    "\n",
    "    for index, row in filtered_df.iterrows():\n",
    "        #compare the distances of each feature between the current liked movie and each row in the \n",
    "        dist = get_distance(movie_row.values[0][:-1], row[:-1])\n",
    "        distances.append(dist)\n",
    " \n",
    "    #routine to get the movie(s) that has the shortest distance\n",
    "    \n",
    "    count = 0\n",
    "    new_rec_list = []\n",
    "    \n",
    "    #append to this remove_dist_list any time we go through the while loop\n",
    "    #purpose is to avoid getting the same recommendation more than once \n",
    "    remove_dist_list = [0]\n",
    "    \n",
    "    #while count is less than the number of nearest neighbors we are requesting for\n",
    "    while (count < neighbor_num):\n",
    "        \n",
    "        #get a distance that is greater than 0 because zero will just point to the same 'movie_row'\n",
    "        mini_dist = min(x for x in distances if x not in remove_dist_list)\n",
    "        \n",
    "        remove_dist_list.append(mini_dist)\n",
    "        \n",
    "        #get the index of the selected shortest distance from the current movie\n",
    "        mini_dist_index = distances.index(mini_dist)\n",
    "        \n",
    "        #get the name of the movie based on the index\n",
    "        new_rec = filtered_df.iloc[mini_dist_index]['original_title']\n",
    "        \n",
    "        print(\"distance ::: \" + str(mini_dist) + \"   @ index ::: \" + str(mini_dist_index) +\"new rec ::::\" + new_rec)\n",
    "\n",
    "        new_rec_list.append(new_rec)\n",
    "        \n",
    "        #increment the count for the while statment\n",
    "        count = count + 1\n",
    "        \n",
    "    return new_rec_list\n",
    "\n",
    "\n",
    "\"\"\"\n",
    "Function to iterate through all the liked movies that the front end will return\n",
    "and then will get the nearest neighbors for those movies.\n",
    "\"\"\"\n",
    "def run_knn(liked_movies, all_data, neighbor_num):\n",
    "    suggestion_list = []\n",
    "    #iterate through liked moveis\n",
    "    for movie in liked_movies:\n",
    "        print(movie)\n",
    "        \n",
    "        #get nearest neighbors/recommendations\n",
    "        new_rec = get_neighbor(movie, all_data, neighbor_num)\n",
    "        suggestion_list.append(new_rec)\n",
    "    \n",
    "    #get all unique values\n",
    "    flat_list = set([item for sublist in suggestion_list for item in sublist])\n",
    "    return list(flat_list)\n",
    "\n",
    "#neighbor number allows you to select how many nearest neighbors to return\n",
    "neighbor_num = 2\n",
    "\n",
    "#############EXAMPLE CALL\n",
    "run_knn(liked_movies, all_data, neighbor_num)\n",
    "        \n"
   ]
  },
  {
   "cell_type": "code",
   "execution_count": null,
   "metadata": {},
   "outputs": [],
   "source": []
  }
 ],
 "metadata": {
  "kernelspec": {
   "display_name": "Python 3",
   "language": "python",
   "name": "python3"
  },
  "language_info": {
   "codemirror_mode": {
    "name": "ipython",
    "version": 3
   },
   "file_extension": ".py",
   "mimetype": "text/x-python",
   "name": "python",
   "nbconvert_exporter": "python",
   "pygments_lexer": "ipython3",
   "version": "3.6.5"
  }
 },
 "nbformat": 4,
 "nbformat_minor": 2
}
